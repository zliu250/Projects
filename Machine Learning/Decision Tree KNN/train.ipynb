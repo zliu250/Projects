{
 "cells": [
  {
   "cell_type": "markdown",
   "id": "exotic-utility",
   "metadata": {},
   "source": [
    "# Machine Learning Model Training\n",
    "\n",
    "A dataset consists of physiochemical properties of a selection of Portuguese Vinho Verde wines.\n",
    "\n",
    "Some wines are red, some are white. A boolean label for high-quality white wines has been provided.\n",
    "\n"
   ]
  },
  {
   "cell_type": "code",
   "execution_count": 1,
   "id": "informal-praise",
   "metadata": {},
   "outputs": [
    {
     "data": {
      "text/html": [
       "<div>\n",
       "<style scoped>\n",
       "    .dataframe tbody tr th:only-of-type {\n",
       "        vertical-align: middle;\n",
       "    }\n",
       "\n",
       "    .dataframe tbody tr th {\n",
       "        vertical-align: top;\n",
       "    }\n",
       "\n",
       "    .dataframe thead th {\n",
       "        text-align: right;\n",
       "    }\n",
       "</style>\n",
       "<table border=\"1\" class=\"dataframe\">\n",
       "  <thead>\n",
       "    <tr style=\"text-align: right;\">\n",
       "      <th></th>\n",
       "      <th>volatile acidity</th>\n",
       "      <th>free sulfur dioxide</th>\n",
       "      <th>chlorides</th>\n",
       "      <th>density</th>\n",
       "      <th>pH</th>\n",
       "      <th>quality white</th>\n",
       "    </tr>\n",
       "  </thead>\n",
       "  <tbody>\n",
       "    <tr>\n",
       "      <th>0</th>\n",
       "      <td>0.76 g(acetic acid)/dm^3</td>\n",
       "      <td>27.0 mg/dm^3</td>\n",
       "      <td>0.043 g(sodium chloride)/dm^3</td>\n",
       "      <td>0.9932 g/cm^3</td>\n",
       "      <td>3.34</td>\n",
       "      <td>False</td>\n",
       "    </tr>\n",
       "    <tr>\n",
       "      <th>1</th>\n",
       "      <td>0.46 g(acetic acid)/dm^3</td>\n",
       "      <td>18.0 mg/dm^3</td>\n",
       "      <td>0.077 g(sodium chloride)/dm^3</td>\n",
       "      <td>0.9948 g/cm^3</td>\n",
       "      <td>3.39</td>\n",
       "      <td>False</td>\n",
       "    </tr>\n",
       "    <tr>\n",
       "      <th>2</th>\n",
       "      <td>0.41 g(acetic acid)/dm^3</td>\n",
       "      <td>25.0 mg/dm^3</td>\n",
       "      <td>0.033 g(sodium chloride)/dm^3</td>\n",
       "      <td>0.99086 g/cm^3</td>\n",
       "      <td>3.05</td>\n",
       "      <td>True</td>\n",
       "    </tr>\n",
       "    <tr>\n",
       "      <th>3</th>\n",
       "      <td>0.21 g(acetic acid)/dm^3</td>\n",
       "      <td>12.0 mg/dm^3</td>\n",
       "      <td>0.038 g(sodium chloride)/dm^3</td>\n",
       "      <td>0.9926 g/cm^3</td>\n",
       "      <td>2.80</td>\n",
       "      <td>False</td>\n",
       "    </tr>\n",
       "    <tr>\n",
       "      <th>4</th>\n",
       "      <td>0.22 g(acetic acid)/dm^3</td>\n",
       "      <td>25.0 mg/dm^3</td>\n",
       "      <td>0.033 g(sodium chloride)/dm^3</td>\n",
       "      <td>0.99356 g/cm^3</td>\n",
       "      <td>3.17</td>\n",
       "      <td>True</td>\n",
       "    </tr>\n",
       "  </tbody>\n",
       "</table>\n",
       "</div>"
      ],
      "text/plain": [
       "           volatile acidity free sulfur dioxide  \\\n",
       "0  0.76 g(acetic acid)/dm^3        27.0 mg/dm^3   \n",
       "1  0.46 g(acetic acid)/dm^3        18.0 mg/dm^3   \n",
       "2  0.41 g(acetic acid)/dm^3        25.0 mg/dm^3   \n",
       "3  0.21 g(acetic acid)/dm^3        12.0 mg/dm^3   \n",
       "4  0.22 g(acetic acid)/dm^3        25.0 mg/dm^3   \n",
       "\n",
       "                       chlorides         density    pH  quality white  \n",
       "0  0.043 g(sodium chloride)/dm^3   0.9932 g/cm^3  3.34          False  \n",
       "1  0.077 g(sodium chloride)/dm^3   0.9948 g/cm^3  3.39          False  \n",
       "2  0.033 g(sodium chloride)/dm^3  0.99086 g/cm^3  3.05           True  \n",
       "3  0.038 g(sodium chloride)/dm^3   0.9926 g/cm^3  2.80          False  \n",
       "4  0.033 g(sodium chloride)/dm^3  0.99356 g/cm^3  3.17           True  "
      ]
     },
     "execution_count": 1,
     "metadata": {},
     "output_type": "execute_result"
    }
   ],
   "source": [
    "import re\n",
    "\n",
    "import numpy as np\n",
    "import pandas as pd\n",
    "\n",
    "from matplotlib import pyplot as plt\n",
    "\n",
    "from sklearn.model_selection import KFold, cross_validate\n",
    "from sklearn.preprocessing import StandardScaler\n",
    "\n",
    "# You may import sklearn models of your choosing. For example,\n",
    "from sklearn.linear_model import SGDClassifier\n",
    "from sklearn.tree import DecisionTreeClassifier\n",
    "from sklearn.neighbors import KNeighborsClassifier\n",
    "\n",
    "df = pd.read_csv('data.csv')\n",
    "\n",
    "df.head()"
   ]
  },
  {
   "cell_type": "code",
   "execution_count": 2,
   "id": "impressive-facing",
   "metadata": {},
   "outputs": [
    {
     "name": "stdout",
     "output_type": "stream",
     "text": [
      "<class 'pandas.core.frame.DataFrame'>\n",
      "RangeIndex: 1000 entries, 0 to 999\n",
      "Data columns (total 6 columns):\n",
      " #   Column               Non-Null Count  Dtype  \n",
      "---  ------               --------------  -----  \n",
      " 0   volatile acidity     1000 non-null   object \n",
      " 1   free sulfur dioxide  1000 non-null   object \n",
      " 2   chlorides            1000 non-null   object \n",
      " 3   density              997 non-null    object \n",
      " 4   pH                   1000 non-null   float64\n",
      " 5   quality white        1000 non-null   bool   \n",
      "dtypes: bool(1), float64(1), object(4)\n",
      "memory usage: 40.2+ KB\n"
     ]
    }
   ],
   "source": [
    "df.info()"
   ]
  },
  {
   "cell_type": "code",
   "execution_count": 3,
   "id": "solved-roulette",
   "metadata": {},
   "outputs": [
    {
     "data": {
      "text/html": [
       "<div>\n",
       "<style scoped>\n",
       "    .dataframe tbody tr th:only-of-type {\n",
       "        vertical-align: middle;\n",
       "    }\n",
       "\n",
       "    .dataframe tbody tr th {\n",
       "        vertical-align: top;\n",
       "    }\n",
       "\n",
       "    .dataframe thead th {\n",
       "        text-align: right;\n",
       "    }\n",
       "</style>\n",
       "<table border=\"1\" class=\"dataframe\">\n",
       "  <thead>\n",
       "    <tr style=\"text-align: right;\">\n",
       "      <th></th>\n",
       "      <th>volatile acidity</th>\n",
       "      <th>free sulfur dioxide</th>\n",
       "      <th>chlorides</th>\n",
       "      <th>density</th>\n",
       "      <th>pH</th>\n",
       "      <th>quality white</th>\n",
       "    </tr>\n",
       "  </thead>\n",
       "  <tbody>\n",
       "    <tr>\n",
       "      <th>0</th>\n",
       "      <td>0.76</td>\n",
       "      <td>27.0</td>\n",
       "      <td>0.043</td>\n",
       "      <td>0.99320</td>\n",
       "      <td>3.34</td>\n",
       "      <td>False</td>\n",
       "    </tr>\n",
       "    <tr>\n",
       "      <th>1</th>\n",
       "      <td>0.46</td>\n",
       "      <td>18.0</td>\n",
       "      <td>0.077</td>\n",
       "      <td>0.99480</td>\n",
       "      <td>3.39</td>\n",
       "      <td>False</td>\n",
       "    </tr>\n",
       "    <tr>\n",
       "      <th>2</th>\n",
       "      <td>0.41</td>\n",
       "      <td>25.0</td>\n",
       "      <td>0.033</td>\n",
       "      <td>0.99086</td>\n",
       "      <td>3.05</td>\n",
       "      <td>True</td>\n",
       "    </tr>\n",
       "    <tr>\n",
       "      <th>3</th>\n",
       "      <td>0.21</td>\n",
       "      <td>12.0</td>\n",
       "      <td>0.038</td>\n",
       "      <td>0.99260</td>\n",
       "      <td>2.80</td>\n",
       "      <td>False</td>\n",
       "    </tr>\n",
       "    <tr>\n",
       "      <th>4</th>\n",
       "      <td>0.22</td>\n",
       "      <td>25.0</td>\n",
       "      <td>0.033</td>\n",
       "      <td>0.99356</td>\n",
       "      <td>3.17</td>\n",
       "      <td>True</td>\n",
       "    </tr>\n",
       "  </tbody>\n",
       "</table>\n",
       "</div>"
      ],
      "text/plain": [
       "   volatile acidity  free sulfur dioxide  chlorides  density    pH  \\\n",
       "0              0.76                 27.0      0.043  0.99320  3.34   \n",
       "1              0.46                 18.0      0.077  0.99480  3.39   \n",
       "2              0.41                 25.0      0.033  0.99086  3.05   \n",
       "3              0.21                 12.0      0.038  0.99260  2.80   \n",
       "4              0.22                 25.0      0.033  0.99356  3.17   \n",
       "\n",
       "   quality white  \n",
       "0          False  \n",
       "1          False  \n",
       "2           True  \n",
       "3          False  \n",
       "4           True  "
      ]
     },
     "execution_count": 3,
     "metadata": {},
     "output_type": "execute_result"
    }
   ],
   "source": [
    "# this code section is pulled from HO2\n",
    "\n",
    "def extract_first_number(source_str):\n",
    "    # `source_str` does not contain interpretable data\n",
    "    if pd.isna(source_str) or source_str.startswith('NA'):\n",
    "        \n",
    "        # use `np.nan` to represent missing data\n",
    "        return np.nan\n",
    "\n",
    "    # find instances of a valid numerical substrings in the source string\n",
    "    # see https://regex101.com/r/gwP6Qy/2 for an explanation\n",
    "    matches = re.search(r'-?\\d+\\.?\\d*', source_str.replace(',', ''))\n",
    "    \n",
    "    # if there are any valid numerical substrings\n",
    "    if matches:\n",
    "        return float(matches[0]) # convert the first one to a float and return the value\n",
    "    else:\n",
    "        return np.nan # otherwise, treat as missing data\n",
    "\n",
    "def clean(df, exclude_columns=[]):\n",
    "    '''\n",
    "    Convert the columns of a dataframe from strings containing numbers to\n",
    "    the first number appearing in each string.\n",
    "    \n",
    "    Args:\n",
    "        df: A pandas dataframe\n",
    "        exclude_columns: A list of columns that should not be converted\n",
    "        \n",
    "    Returns:\n",
    "        A pandas dataframe\n",
    "    '''\n",
    "   \n",
    "    for c in df.columns:\n",
    "        \n",
    "        if c not in exclude_columns:          \n",
    "            for x in df[c]:\n",
    "                df[c] = df[c].replace(x,extract_first_number(str(x)))\n",
    "        else:\n",
    "            pass\n",
    "        \n",
    "    return df\n",
    "    \n",
    "# perform datacleaning which convert most of the column into float data type for efficiency\n",
    "# the column quality white is excluded since they serve as boolean type in the dataset\n",
    "df_1 = clean(df, ['quality white'])\n",
    "df_1.head()\n"
   ]
  },
  {
   "cell_type": "code",
   "execution_count": 4,
   "id": "communist-walter",
   "metadata": {},
   "outputs": [
    {
     "data": {
      "text/html": [
       "<div>\n",
       "<style scoped>\n",
       "    .dataframe tbody tr th:only-of-type {\n",
       "        vertical-align: middle;\n",
       "    }\n",
       "\n",
       "    .dataframe tbody tr th {\n",
       "        vertical-align: top;\n",
       "    }\n",
       "\n",
       "    .dataframe thead th {\n",
       "        text-align: right;\n",
       "    }\n",
       "</style>\n",
       "<table border=\"1\" class=\"dataframe\">\n",
       "  <thead>\n",
       "    <tr style=\"text-align: right;\">\n",
       "      <th></th>\n",
       "      <th>volatile acidity</th>\n",
       "      <th>free sulfur dioxide</th>\n",
       "      <th>chlorides</th>\n",
       "      <th>density</th>\n",
       "      <th>pH</th>\n",
       "      <th>quality white</th>\n",
       "    </tr>\n",
       "  </thead>\n",
       "  <tbody>\n",
       "    <tr>\n",
       "      <th>0</th>\n",
       "      <td>0.76</td>\n",
       "      <td>27.0</td>\n",
       "      <td>0.043</td>\n",
       "      <td>0.99320</td>\n",
       "      <td>3.34</td>\n",
       "      <td>0.0</td>\n",
       "    </tr>\n",
       "    <tr>\n",
       "      <th>1</th>\n",
       "      <td>0.46</td>\n",
       "      <td>18.0</td>\n",
       "      <td>0.077</td>\n",
       "      <td>0.99480</td>\n",
       "      <td>3.39</td>\n",
       "      <td>0.0</td>\n",
       "    </tr>\n",
       "    <tr>\n",
       "      <th>2</th>\n",
       "      <td>0.41</td>\n",
       "      <td>25.0</td>\n",
       "      <td>0.033</td>\n",
       "      <td>0.99086</td>\n",
       "      <td>3.05</td>\n",
       "      <td>1.0</td>\n",
       "    </tr>\n",
       "    <tr>\n",
       "      <th>3</th>\n",
       "      <td>0.21</td>\n",
       "      <td>12.0</td>\n",
       "      <td>0.038</td>\n",
       "      <td>0.99260</td>\n",
       "      <td>2.80</td>\n",
       "      <td>0.0</td>\n",
       "    </tr>\n",
       "    <tr>\n",
       "      <th>4</th>\n",
       "      <td>0.22</td>\n",
       "      <td>25.0</td>\n",
       "      <td>0.033</td>\n",
       "      <td>0.99356</td>\n",
       "      <td>3.17</td>\n",
       "      <td>1.0</td>\n",
       "    </tr>\n",
       "  </tbody>\n",
       "</table>\n",
       "</div>"
      ],
      "text/plain": [
       "   volatile acidity  free sulfur dioxide  chlorides  density    pH  \\\n",
       "0              0.76                 27.0      0.043  0.99320  3.34   \n",
       "1              0.46                 18.0      0.077  0.99480  3.39   \n",
       "2              0.41                 25.0      0.033  0.99086  3.05   \n",
       "3              0.21                 12.0      0.038  0.99260  2.80   \n",
       "4              0.22                 25.0      0.033  0.99356  3.17   \n",
       "\n",
       "   quality white  \n",
       "0            0.0  \n",
       "1            0.0  \n",
       "2            1.0  \n",
       "3            0.0  \n",
       "4            1.0  "
      ]
     },
     "execution_count": 4,
     "metadata": {},
     "output_type": "execute_result"
    }
   ],
   "source": [
    "#convert all the datatype in dataframe into float type\n",
    "df_1 = df_1.astype(float)\n",
    "\n",
    "#drop rows that contains null value\n",
    "df_1 = df_1.dropna()\n",
    "\n",
    "df_1.head()"
   ]
  },
  {
   "cell_type": "code",
   "execution_count": 5,
   "id": "cooked-generation",
   "metadata": {
    "tags": []
   },
   "outputs": [
    {
     "data": {
      "text/plain": [
       "quality white          1.000000\n",
       "free sulfur dioxide    0.343997\n",
       "pH                     0.024124\n",
       "chlorides             -0.329059\n",
       "density               -0.363263\n",
       "volatile acidity      -0.473643\n",
       "dtype: float64"
      ]
     },
     "execution_count": 5,
     "metadata": {},
     "output_type": "execute_result"
    }
   ],
   "source": [
    "# we use corrwith to determine which column can be dropped since the column closest to 0 shouldn't affect the result of \"quality white\" \n",
    "# in that way we can reduce complexity/redundancy of the dataset.\n",
    "df_1.corrwith(df_1[\"quality white\"]).sort_values(ascending = False)\n"
   ]
  },
  {
   "cell_type": "code",
   "execution_count": 6,
   "id": "geological-gibraltar",
   "metadata": {
    "tags": []
   },
   "outputs": [],
   "source": [
    "# turns out pH has a correlation of 0.02, thus we drop this column\n",
    "df_1 = df_1.drop(columns = [\"pH\"])"
   ]
  },
  {
   "cell_type": "code",
   "execution_count": 7,
   "id": "enormous-navigator",
   "metadata": {},
   "outputs": [
    {
     "data": {
      "text/plain": [
       "<AxesSubplot:xlabel='volatile acidity', ylabel='quality white'>"
      ]
     },
     "execution_count": 7,
     "metadata": {},
     "output_type": "execute_result"
    },
    {
     "data": {
      "image/png": "[encoded data removed]",
      "text/plain": [
       "<Figure size 432x288 with 1 Axes>"
      ]
     },
     "metadata": {
      "needs_background": "light"
     },
     "output_type": "display_data"
    }
   ],
   "source": [
    "# set a dataframe that contains features only when quality white is true\n",
    "# the other one contains unqualify wines\n",
    "\n",
    "df_quality = df_1[df_1['quality white'] == True]\n",
    "\n",
    "df_unqualify = df_1[df_1['quality white'] == False]\n",
    "\n",
    "\n",
    "# a scatter plot of volatile acidity as the X-axis and quality white as the y-axis\n",
    "df_1.plot.scatter(x = 'volatile acidity',y = 'quality white')"
   ]
  },
  {
   "cell_type": "code",
   "execution_count": 8,
   "id": "motivated-advisory",
   "metadata": {},
   "outputs": [
    {
     "data": {
      "text/plain": [
       "array([[<AxesSubplot:title={'center':'volatile acidity'}>]], dtype=object)"
      ]
     },
     "execution_count": 8,
     "metadata": {},
     "output_type": "execute_result"
    },
    {
     "data": {
      "image/png": "[encoded data removed]",
      "text/plain": [
       "<Figure size 432x288 with 1 Axes>"
      ]
     },
     "metadata": {
      "needs_background": "light"
     },
     "output_type": "display_data"
    },
    {
     "data": {
      "image/png": "[encoded data removed]",
      "text/plain": [
       "<Figure size 432x288 with 1 Axes>"
      ]
     },
     "metadata": {
      "needs_background": "light"
     },
     "output_type": "display_data"
    }
   ],
   "source": [
    "#historgram of volatile acidity on qualify/unqualify\n",
    "df_quality.hist(column = 'volatile acidity',bins = 25)\n",
    "df_unqualify.hist(column = 'volatile acidity',bins = 25,color = 'red')"
   ]
  },
  {
   "cell_type": "code",
   "execution_count": 9,
   "id": "narrative-waterproof",
   "metadata": {},
   "outputs": [
    {
     "data": {
      "text/plain": [
       "array([[<AxesSubplot:title={'center':'density'}>]], dtype=object)"
      ]
     },
     "execution_count": 9,
     "metadata": {},
     "output_type": "execute_result"
    },
    {
     "data": {
      "image/png": "[encoded data removed]",
      "text/plain": [
       "<Figure size 432x288 with 1 Axes>"
      ]
     },
     "metadata": {
      "needs_background": "light"
     },
     "output_type": "display_data"
    },
    {
     "data": {
      "image/png": "[encoded data removed]",
      "text/plain": [
       "<Figure size 432x288 with 1 Axes>"
      ]
     },
     "metadata": {
      "needs_background": "light"
     },
     "output_type": "display_data"
    }
   ],
   "source": [
    "#historgram of density on qualify/unqualify\n",
    "df_quality.hist(column = 'density',bins = 25)\n",
    "df_unqualify.hist(column = 'density',bins = 25,color = 'red')"
   ]
  },
  {
   "cell_type": "code",
   "execution_count": 10,
   "id": "dedicated-mongolia",
   "metadata": {},
   "outputs": [
    {
     "data": {
      "text/plain": [
       "array([[<AxesSubplot:title={'center':'free sulfur dioxide'}>]],\n",
       "      dtype=object)"
      ]
     },
     "execution_count": 10,
     "metadata": {},
     "output_type": "execute_result"
    },
    {
     "data": {
      "image/png": "[encoded data removed]",
      "text/plain": [
       "<Figure size 432x288 with 1 Axes>"
      ]
     },
     "metadata": {
      "needs_background": "light"
     },
     "output_type": "display_data"
    },
    {
     "data": {
      "image/png": "[encoded data removed]",
      "text/plain": [
       "<Figure size 432x288 with 1 Axes>"
      ]
     },
     "metadata": {
      "needs_background": "light"
     },
     "output_type": "display_data"
    }
   ],
   "source": [
    "#historgram of free sulfur dioxide on qualify/unqualify\n",
    "df_quality.hist(column = 'free sulfur dioxide',bins = 25)\n",
    "df_unqualify.hist(column = 'free sulfur dioxide',bins = 25,color = 'red')"
   ]
  },
  {
   "cell_type": "code",
   "execution_count": 11,
   "id": "western-final",
   "metadata": {},
   "outputs": [
    {
     "data": {
      "text/plain": [
       "array([[<AxesSubplot:title={'center':'chlorides'}>]], dtype=object)"
      ]
     },
     "execution_count": 11,
     "metadata": {},
     "output_type": "execute_result"
    },
    {
     "data": {
      "image/png": "[encoded data removed]",
      "text/plain": [
       "<Figure size 432x288 with 1 Axes>"
      ]
     },
     "metadata": {
      "needs_background": "light"
     },
     "output_type": "display_data"
    },
    {
     "data": {
      "image/png": "[encoded data removed]",
      "text/plain": [
       "<Figure size 432x288 with 1 Axes>"
      ]
     },
     "metadata": {
      "needs_background": "light"
     },
     "output_type": "display_data"
    }
   ],
   "source": [
    "#historgram of chlorides on qualify/unqualify\n",
    "df_quality.hist(column = 'chlorides',bins = 25)\n",
    "df_unqualify.hist(column = 'chlorides',bins = 25,color = 'red')"
   ]
  },
  {
   "cell_type": "code",
   "execution_count": 12,
   "id": "indonesian-wireless",
   "metadata": {},
   "outputs": [
    {
     "data": {
      "image/png": "[encoded data removed]",
      "text/plain": [
       "<Figure size 288x288 with 2 Axes>"
      ]
     },
     "metadata": {
      "needs_background": "light"
     },
     "output_type": "display_data"
    }
   ],
   "source": [
    "#correlation matrix of the dataset\n",
    "plt.matshow(df_1.corr())\n",
    "plt.colorbar()\n",
    "plt.show()"
   ]
  },
  {
   "cell_type": "code",
   "execution_count": 13,
   "id": "executed-lounge",
   "metadata": {},
   "outputs": [
    {
     "name": "stdout",
     "output_type": "stream",
     "text": [
      "accuracy_score\n",
      "linear [0.645      0.68       0.70351759 0.71356784 0.62311558]\n",
      "tree [0.75       0.755      0.74371859 0.78894472 0.72361809]\n",
      "KNN [0.675      0.695      0.68341709 0.74874372 0.68341709]\n",
      "\n",
      "Mean of linear 0.6730402010050252  and std of accuracy 0.03434682005481116\n",
      "Mean of tree 0.7522562814070353  and std of accuracy 0.021221209647319394\n",
      "Mean of KNN 0.6971155778894472  and std of accuracy 0.026586977109753378\n"
     ]
    }
   ],
   "source": [
    "# code section pulled from HO4\n",
    "\n",
    "linear_model = SGDClassifier(\n",
    "    loss='log',\n",
    "    random_state=0\n",
    ")\n",
    "tree_model = DecisionTreeClassifier(\n",
    "    criterion='entropy',\n",
    "    max_depth=5,\n",
    "    random_state=0\n",
    ")\n",
    "knn_model = KNeighborsClassifier(\n",
    "    n_neighbors=8\n",
    ")\n",
    "\n",
    "models = {\n",
    "    'linear': linear_model,\n",
    "    'tree': tree_model, \n",
    "    'KNN': knn_model\n",
    "}\n",
    "\n",
    "features = ['volatile acidity','density']\n",
    "label = ['quality white']\n",
    "\n",
    "X, y = df_1[features], (df_1[label] == 1)\n",
    "from sklearn.metrics import accuracy_score\n",
    "from sklearn.metrics import f1_score\n",
    "k = 5\n",
    "kf = KFold(k)\n",
    "\n",
    "print(\"accuracy_score\")\n",
    "linear = []\n",
    "tree = []\n",
    "KNN = []\n",
    "\n",
    "#k_fold_valid, split the dataset into k groups and call model.predict each time.\n",
    "def K_Fold_Validate(models, kf, X, y):\n",
    "    \n",
    "    # initialize dictionary to hold scores\n",
    "    scores = {\n",
    "        name: [] for name in models\n",
    "    }\n",
    "\n",
    "    for train_index, test_index in kf.split(X):\n",
    "    \n",
    "        # split training test sets by index\n",
    "        X_train, X_test = X.iloc[train_index], X.iloc[test_index]\n",
    "        y_train, y_test = y.iloc[train_index], y.iloc[test_index]\n",
    "\n",
    "        # compute the cross-validation score for each model\n",
    "        # using the same splits\n",
    "        for name, model in models.items():\n",
    "\n",
    "            model.fit(X_train, y_train.to_numpy().ravel())\n",
    "            \n",
    "            scores[name].append(\n",
    "                accuracy_score(y_test, model.predict(X_test))\n",
    "            )\n",
    "\n",
    "    return {k: np.array(v) for k, v in scores.items()}\n",
    "\n",
    "\n",
    "scores = K_Fold_Validate(models, kf, X, y)\n",
    "for k, v in scores.items():\n",
    "    if k == \"linear\":\n",
    "        linear.append(v)\n",
    "    if k == \"KNN\":\n",
    "        KNN.append(v)\n",
    "    if k == \"tree\":\n",
    "        tree.append(v)\n",
    "    print(k,v)\n",
    "\n",
    "print()\n",
    "# print the result of each models' mean accuracy and standard deviation of it.\n",
    "print(\"Mean of linear\",np.mean(linear),\" and std of accuracy\",np.std(linear))\n",
    "print(\"Mean of tree\",np.mean(tree),\" and std of accuracy\",np.std(tree))\n",
    "print(\"Mean of KNN\",np.mean(KNN),\" and std of accuracy\",np.std(KNN))\n"
   ]
  },
  {
   "cell_type": "code",
   "execution_count": 14,
   "id": "agricultural-bulletin",
   "metadata": {},
   "outputs": [
    {
     "name": "stdout",
     "output_type": "stream",
     "text": [
      "prob. that avg. accuracy score for linear and tree are the same: 0.0023737730656246308\n",
      "Difference between mean performance is probably real\n",
      "prob. that avg. accuracy score for linear and KNN are the same: 0.14308441204342473\n",
      "Algorithms probably have the same performance\n",
      "prob. that avg. accuracy score for KNN and tree are the same: 0.0011714078405512078\n",
      "Difference between mean performance is probably real\n"
     ]
    }
   ],
   "source": [
    "from scipy import stats\n",
    "\n",
    "# code section pulled from HO4\n",
    "def p_value(model1_scores, model2_scores):\n",
    "    '''\n",
    "    return probability of null hypothesis \n",
    "    (that points were sampled from same distribution)\n",
    "    '''\n",
    "    \n",
    "    # Your code here\n",
    "    t = 0\n",
    "    length = len(model1_scores)\n",
    "    tri = []\n",
    "    for i in range(length):\n",
    "        tri.append(model1_scores[i] - model2_scores[i])\n",
    "        \n",
    "    tri_bar = np.mean(tri)\n",
    "    sd = []\n",
    "    for i in range(length):\n",
    "        sd.append((tri[i] - tri_bar)**2)\n",
    "    \n",
    "    s_tri = np.sqrt(np.mean(sd)) \n",
    "    t = tri_bar / (s_tri / np.sqrt(length-1))\n",
    "    # compute the pvalue from a two-tailed t-statistic `t`\n",
    "    pval = stats.t.sf(np.abs(t), len(model1_scores)-1) * 2\n",
    "    \n",
    "    return pval\n",
    "\n",
    "linear_model = SGDClassifier(\n",
    "    loss='log',\n",
    "    random_state=0\n",
    ")\n",
    "tree_model = DecisionTreeClassifier(\n",
    "    criterion='entropy',\n",
    "    max_depth=5,\n",
    "    random_state=0\n",
    ")\n",
    "knn_model = KNeighborsClassifier(\n",
    "    n_neighbors=8\n",
    ")\n",
    "\n",
    "models = {\n",
    "    'linear': linear_model,\n",
    "    'tree': tree_model, \n",
    "    'KNN': knn_model\n",
    "}\n",
    "\n",
    "# selected features and response label\n",
    "features = ['volatile acidity','density']\n",
    "label = ['quality white']\n",
    "\n",
    "X, y = df_1[features], df_1[label] > 0\n",
    "\n",
    "k = 5\n",
    "kf = KFold(k)\n",
    "\n",
    "# call k_fold_validate\n",
    "scores = K_Fold_Validate(models, kf, X, y)\n",
    "\n",
    "# we calculate the p-values between each pair of models\n",
    "def report(a, b):\n",
    "    pval = p_value(scores[a], scores[b])\n",
    "    print(f'prob. that avg. accuracy score for {a} and {b} are the same:', pval)\n",
    "    if pval <= 0.05:\n",
    "        print('Difference between mean performance is probably real')\n",
    "    else:\n",
    "        print('Algorithms probably have the same performance')\n",
    "\n",
    "\n",
    "report('linear', 'tree')\n",
    "report('linear', 'KNN')\n",
    "report('KNN', 'tree')"
   ]
  },
  {
   "cell_type": "code",
   "execution_count": 15,
   "id": "cordless-sucking",
   "metadata": {},
   "outputs": [
    {
     "data": {
      "image/png": "[encoded data removed]",
      "text/plain": [
       "<Figure size 720x288 with 2 Axes>"
      ]
     },
     "metadata": {
      "needs_background": "light"
     },
     "output_type": "display_data"
    }
   ],
   "source": [
    "\n",
    "linear_model = SGDClassifier(\n",
    "    loss='log',\n",
    "    random_state=0\n",
    ")\n",
    "\n",
    "tree_model = DecisionTreeClassifier(\n",
    "    criterion='entropy',\n",
    "    max_depth=5,\n",
    "    random_state=0\n",
    ")\n",
    "knn_model = KNeighborsClassifier(\n",
    "    n_neighbors=8\n",
    ")\n",
    "\n",
    "models = {\n",
    "    'linear': linear_model,\n",
    "    'tree': tree_model, \n",
    "    'KNN': knn_model\n",
    "}\n",
    "\n",
    "features = ['volatile acidity','density']\n",
    "label = ['quality white']\n",
    "\n",
    "X, y = df_1[features], (df_1[label] > 0).values.ravel()\n",
    "tree_model.fit(X,y)\n",
    "knn_model.fit(X,y)\n",
    "\n",
    "\n",
    "# data range\n",
    "x_min, x_max = df[features[0]].min() - 1, df[features[0]].max() + 1\n",
    "y_min, y_max = df[features[1]].min() - 1, df[features[1]].max() + 1\n",
    "\n",
    "# meshgrid\n",
    "res = (x_max - x_min) / 100\n",
    "xx, yy = np.meshgrid(np.arange(x_min, x_max, res), np.arange(y_min, y_max, res))\n",
    "\n",
    "Z_tree = tree_model.predict(np.c_[xx.ravel(), yy.ravel()]).reshape(xx.shape)\n",
    "Z_knn = knn_model.predict(np.c_[xx.ravel(), yy.ravel()]).reshape(xx.shape)\n",
    "\n",
    "f, (ax1, ax2) = plt.subplots(1, 2, sharey=True, figsize=(10, 4))\n",
    "ax1.scatter(df[features[0]], df[features[1]], c=np.array(df[label] > 0), alpha=0.5)\n",
    "ax1.contourf(xx, yy, Z_tree, alpha=0.2)\n",
    "ax1.set_xlabel(f'Relative {features[0]}'), \n",
    "ax1.set_ylabel(f'Relative {features[1]}'), ax1.set_title('Decision Tree')\n",
    "\n",
    "ax2.scatter(df[features[0]], df[features[1]], c=np.array(df[label] > 0), alpha=0.5)\n",
    "ax2.contourf(xx, yy, Z_knn, alpha=0.2)\n",
    "ax2.set_xlabel(f'Relative {features[0]}'), ax2.set_title('K Nearest Neighbors')\n",
    "\n",
    "plt.show()"
   ]
  },
  {
   "cell_type": "code",
   "execution_count": null,
   "id": "weekly-instruction",
   "metadata": {},
   "outputs": [],
   "source": []
  },
  {
   "cell_type": "code",
   "execution_count": null,
   "id": "apparent-capability",
   "metadata": {},
   "outputs": [],
   "source": []
  },
  {
   "cell_type": "code",
   "execution_count": null,
   "id": "parliamentary-pearl",
   "metadata": {},
   "outputs": [],
   "source": []
  }
 ],
 "metadata": {
  "kernelspec": {
   "display_name": "Python 3",
   "language": "python",
   "name": "python3"
  },
  "language_info": {
   "codemirror_mode": {
    "name": "ipython",
    "version": 3
   },
   "file_extension": ".py",
   "mimetype": "text/x-python",
   "name": "python",
   "nbconvert_exporter": "python",
   "pygments_lexer": "ipython3",
   "version": "3.9.2"
  }
 },
 "nbformat": 4,
 "nbformat_minor": 5
}
