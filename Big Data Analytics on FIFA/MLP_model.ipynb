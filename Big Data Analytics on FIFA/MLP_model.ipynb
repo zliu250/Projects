{
 "cells": [
  {
   "cell_type": "code",
   "execution_count": 25,
   "metadata": {},
   "outputs": [],
   "source": [
    "# Uncomment the following lines if you are using Windows!\n",
    "import findspark\n",
    "findspark.init()\n",
    "findspark.find()\n",
    "\n",
    "import pyspark\n",
    "from pyspark.sql.functions import abs as abs_col\n",
    "from pyspark.sql.functions import *\n",
    "\n",
    "from pyspark.sql import SparkSession\n",
    "from pyspark import SparkContext, SQLContext\n",
    "\n",
    "appName = \"Big Data Analytics\"\n",
    "master = \"local\"\n",
    "\n",
    "# Create Configuration object for Spark.\n",
    "conf = pyspark.SparkConf()\\\n",
    "    .set('spark.driver.host','127.0.0.1')\\\n",
    "    .setAppName(appName)\\\n",
    "    .setMaster(master)\n",
    "\n",
    "# Create Spark Context with the new configurations rather than relying on the default one\n",
    "sc = SparkContext.getOrCreate(conf=conf)\n",
    "\n",
    "spark = (\n",
    "    SparkSession.builder\n",
    "    .appName(\"Big Data Analytics\")\n",
    "    .master(\"local2\")\n",
    "    .config(\"spark.driver.host\", '127.0.0.1')\n",
    "    .getOrCreate()\n",
    ")"
   ]
  },
  {
   "cell_type": "code",
   "execution_count": 26,
   "metadata": {},
   "outputs": [],
   "source": [
    "df_read = spark.read.csv(\"data/merged_engineered.csv\", header=True, inferSchema=True)"
   ]
  },
  {
   "cell_type": "markdown",
   "metadata": {},
   "source": [
    "## Prepare for MLP training"
   ]
  },
  {
   "cell_type": "code",
   "execution_count": 27,
   "metadata": {},
   "outputs": [
    {
     "name": "stdout",
     "output_type": "stream",
     "text": [
      "+--------------+\n",
      "|preferred_foot|\n",
      "+--------------+\n",
      "|          Left|\n",
      "|         Right|\n",
      "+--------------+\n",
      "\n",
      "None\n",
      "+-------------+\n",
      "|    work_rate|\n",
      "+-------------+\n",
      "|Medium/Medium|\n",
      "|  High/Medium|\n",
      "|     Low/High|\n",
      "|      Low/Low|\n",
      "|    High/High|\n",
      "|   Medium/Low|\n",
      "|     High/Low|\n",
      "|  Medium/High|\n",
      "|   Low/Medium|\n",
      "+-------------+\n",
      "\n",
      "None\n",
      "+----------------+\n",
      "|       body_type|\n",
      "+----------------+\n",
      "|   Stocky (170-)|\n",
      "|   Normal (185+)|\n",
      "|     Lean (185+)|\n",
      "|Normal (170-185)|\n",
      "|     Lean (170-)|\n",
      "|  Lean (170-185)|\n",
      "|   Normal (170-)|\n",
      "|   Stocky (185+)|\n",
      "|Stocky (170-185)|\n",
      "|          Unique|\n",
      "+----------------+\n",
      "\n",
      "None\n"
     ]
    }
   ],
   "source": [
    "from pyspark.ml.feature import StringIndexer, OneHotEncoder\n",
    "from pyspark.ml import Pipeline\n",
    "\n",
    "string_cols = ['preferred_foot','work_rate', 'body_type']\n",
    "for col in string_cols:\n",
    "    print(df_read.select(col).distinct().show())\n",
    "\n",
    "indexers = [StringIndexer(inputCol=column, outputCol=column + \"_index\") for column in string_cols]\n",
    "encoders = [OneHotEncoder(inputCol=column + \"_index\", outputCol=column + \"_vec\") for column in string_cols]\n",
    "\n",
    "pipeline = Pipeline(stages=indexers + encoders)\n",
    "\n",
    "df_transformed = pipeline.fit(df_read).transform(df_read)"
   ]
  },
  {
   "cell_type": "code",
   "execution_count": 28,
   "metadata": {},
   "outputs": [
    {
     "name": "stdout",
     "output_type": "stream",
     "text": [
      "['age', 'height_cm', 'weight_kg', 'league_level', 'weak_foot', 'skill_moves', 'international_reputation', 'pace', 'shooting', 'passing', 'dribbling', 'defending', 'physic', 'attacking_crossing', 'attacking_finishing', 'attacking_heading_accuracy', 'attacking_short_passing', 'attacking_volleys', 'skill_dribbling', 'skill_fk_accuracy', 'skill_ball_control', 'movement_acceleration', 'movement_sprint_speed', 'movement_agility', 'movement_reactions', 'movement_balance', 'power_shot_power', 'power_jumping', 'power_stamina', 'power_strength', 'mentality_aggression', 'mentality_interceptions', 'mentality_positioning', 'mentality_vision', 'mentality_penalties', 'defending_marking_awareness', 'defending_standing_tackle', 'defending_sliding_tackle', 'goalkeeping_diving', 'goalkeeping_handling', 'goalkeeping_kicking', 'goalkeeping_positioning', 'goalkeeping_reflexes', 'is_gk', 'preferred_foot_vec', 'work_rate_vec', 'body_type_vec']\n"
     ]
    }
   ],
   "source": [
    "# Vector Assmebling steps\n",
    "from pyspark.ml.feature import VectorAssembler\n",
    "\n",
    "feature_cols = df_transformed.drop('preferred_foot', 'overall', 'work_rate', 'body_type', 'preferred_foot_index', 'work_rate_index', 'body_type_index', 'UID').columns\n",
    "print(feature_cols)\n",
    "\n",
    "vector_assembler = VectorAssembler(inputCols=feature_cols, outputCol=\"features\")\n",
    "\n",
    "df_assembled = vector_assembler.transform(df_transformed)"
   ]
  },
  {
   "cell_type": "code",
   "execution_count": 29,
   "metadata": {},
   "outputs": [],
   "source": [
    "from pyspark.sql.types import DoubleType, ArrayType\n",
    "from pyspark.sql.functions import udf\n",
    "import pandas as pd\n",
    "train, test = df_assembled.randomSplit([0.7, 0.3], seed=504)\n",
    "\n",
    "to_array = udf(lambda v: v.toArray().tolist(), ArrayType(DoubleType()))\n",
    "train_pd = train.withColumn(\"features\", to_array(\"features\")).toPandas()\n",
    "test_pd = test.withColumn(\"features\", to_array(\"features\")).toPandas()"
   ]
  },
  {
   "cell_type": "code",
   "execution_count": 30,
   "metadata": {},
   "outputs": [],
   "source": [
    "import torch\n",
    "import torch.nn as nn\n",
    "import torch.nn.functional as F\n",
    "import torch.optim as optim\n",
    "import torch.utils.data as utils\n",
    "\n",
    "x_train = torch.from_numpy(np.array(train_pd['features'].values.tolist(), np.float32))\n",
    "y_train = torch.from_numpy(np.array(train_pd['overall'].values.tolist(), np.int64))\n",
    "\n",
    "x_test = torch.from_numpy(np.array(test_pd['features'].values.tolist(), np.float32))\n",
    "y_test = torch.from_numpy(np.array(test_pd['overall'].values.tolist(), np.int64))"
   ]
  },
  {
   "cell_type": "code",
   "execution_count": 31,
   "metadata": {},
   "outputs": [],
   "source": [
    "from torch.utils.data import Dataset, DataLoader\n",
    "class MyDataset(Dataset):\n",
    "    def __init__(self, x, y):\n",
    "        self.x = x\n",
    "        self.y = y\n",
    "    def __len__(self):\n",
    "        return self.x.shape[0]\n",
    "    def __getitem__(self, idx):\n",
    "        return self.x[idx], self.y[idx]\n",
    "    \n",
    "train_dataset = MyDataset(x_train, y_train)\n",
    "test_dataset = MyDataset(x_test, y_test)"
   ]
  },
  {
   "cell_type": "markdown",
   "metadata": {},
   "source": [
    "## First MLP Structure"
   ]
  },
  {
   "cell_type": "code",
   "execution_count": 32,
   "metadata": {},
   "outputs": [],
   "source": [
    "class myNeuralNet(nn.Module):\n",
    "    def __init__(self, input_size):\n",
    "        super().__init__()\n",
    "        self.ln1 = nn.Linear(input_size, 64)\n",
    "        self.ln2 = nn.Linear(64, 32)\n",
    "        self.ln3 = nn.Linear(32, 1)\n",
    "    def forward(self, x):\n",
    "        x = F.relu(self.ln1(x))\n",
    "        x = F.relu(self.ln2(x))\n",
    "        x = self.ln3(x)\n",
    "        return x\n"
   ]
  },
  {
   "cell_type": "code",
   "execution_count": 33,
   "metadata": {},
   "outputs": [
    {
     "name": "stdout",
     "output_type": "stream",
     "text": [
      "Epoch 4 train loss: 1.4352358491354\n",
      "Epoch 4 test loss: 1.3120650585404217\n",
      "Epoch 9 train loss: 1.1607084812033766\n",
      "Epoch 9 test loss: 1.0863340389536862\n",
      "Epoch 14 train loss: 1.0793522392244388\n",
      "Epoch 14 test loss: 1.0149098559643555\n",
      "Epoch 19 train loss: 1.030265388515545\n",
      "Epoch 19 test loss: 1.036602443999755\n",
      "Epoch 24 train loss: 0.9977644738585999\n",
      "Epoch 24 test loss: 0.9514231679769972\n",
      "Epoch 29 train loss: 0.9860770886977358\n",
      "Epoch 29 test loss: 0.9347645286670323\n",
      "Epoch 34 train loss: 0.9702365713649973\n",
      "Epoch 34 test loss: 0.9437354486121883\n",
      "Epoch 39 train loss: 0.9605982872502258\n",
      "Epoch 39 test loss: 0.9289699356324093\n",
      "Epoch 44 train loss: 0.9513417820174558\n",
      "Epoch 44 test loss: 0.9536875852627557\n",
      "Epoch 49 train loss: 0.9434024576767115\n",
      "Epoch 49 test loss: 0.8891115320267392\n",
      "Epoch 54 train loss: 0.9340338673015746\n",
      "Epoch 54 test loss: 0.9979702220576463\n",
      "Epoch 59 train loss: 0.9307176370639354\n",
      "Epoch 59 test loss: 0.9033781282295676\n",
      "Epoch 64 train loss: 0.9257653658569325\n",
      "Epoch 64 test loss: 0.8813179689609256\n",
      "Epoch 69 train loss: 0.9219229043616602\n",
      "Epoch 69 test loss: 0.8786287455838088\n",
      "Epoch 74 train loss: 0.9200692764279665\n",
      "Epoch 74 test loss: 0.8871665716992768\n",
      "Epoch 79 train loss: 0.9156387175510948\n",
      "Epoch 79 test loss: 0.8668962905431598\n",
      "Epoch 84 train loss: 0.9127860153093934\n",
      "Epoch 84 test loss: 0.898922716448537\n",
      "Epoch 89 train loss: 0.909850162929312\n",
      "Epoch 89 test loss: 0.9362159958979255\n",
      "Epoch 94 train loss: 0.9068447679940922\n",
      "Epoch 94 test loss: 1.0052199422697012\n",
      "Epoch 99 train loss: 0.902557424424837\n",
      "Epoch 99 test loss: 0.8764044932028419\n",
      "Epoch 104 train loss: 0.9032678023989623\n",
      "Epoch 104 test loss: 0.8846883891780746\n",
      "Epoch 109 train loss: 0.8980279788083863\n",
      "Epoch 109 test loss: 0.8550410549089336\n",
      "Epoch 114 train loss: 0.8987266243445143\n",
      "Epoch 114 test loss: 1.0093140191245955\n",
      "Epoch 119 train loss: 0.8921866017529586\n",
      "Epoch 119 test loss: 0.8944039046193886\n",
      "Epoch 124 train loss: 0.8914460992042829\n",
      "Epoch 124 test loss: 0.9266119207987193\n",
      "Epoch 129 train loss: 0.8938556064628452\n",
      "Epoch 129 test loss: 0.8660810824147045\n",
      "Epoch 134 train loss: 0.8910636765309997\n",
      "Epoch 134 test loss: 0.8959880919633562\n",
      "Epoch 139 train loss: 0.8902304930137083\n",
      "Epoch 139 test loss: 0.8946696041439978\n",
      "Epoch 144 train loss: 0.8914847698567124\n",
      "Epoch 144 test loss: 0.8479121362314107\n",
      "Epoch 149 train loss: 0.889880217849471\n",
      "Epoch 149 test loss: 0.9966934744559605\n"
     ]
    }
   ],
   "source": [
    "input_size = x_train.shape[1]\n",
    "model = myNeuralNet(input_size)\n",
    "\n",
    "batch_size = 32\n",
    "num_epochs = 150\n",
    "lr = 0.0001\n",
    "opt = optim.Adam(model.parameters(), lr=lr)\n",
    "loss_fcn = nn.MSELoss()\n",
    "\n",
    "loss_per_batch = []\n",
    "train_loss = []\n",
    "test_loss = []\n",
    "train_loader = DataLoader(train_dataset, batch_size=batch_size, shuffle=True)\n",
    "for epoch in range(num_epochs):\n",
    "    model = model.train()\n",
    "\n",
    "    # Compute the train/validate/accuracy for each epoch and save the best model so far every epoch\n",
    "    total_train_loss = 0\n",
    "    total_test_loss = 0\n",
    "    for batch_id, (x,y) in enumerate(train_loader):\n",
    "        opt.zero_grad()\n",
    "        output = model(x)\n",
    "        output = output.squeeze().float()\n",
    "        loss = loss_fcn(output, y.float())\n",
    "\n",
    "        total_train_loss += loss.item()\n",
    "        \n",
    "        loss.backward()\n",
    "        opt.step()\n",
    "    train_loss.append(total_train_loss / len(train_loader))\n",
    "    \n",
    "    # Compute the validation loss\n",
    "    model = model.eval()\n",
    "    test_loader = DataLoader(test_dataset, batch_size=batch_size, shuffle=True)\n",
    "    with torch.no_grad():\n",
    "        for batch_id, (x,y) in enumerate(test_loader):\n",
    "            output = model(x)\n",
    "            output = model(x)\n",
    "            output = output.squeeze().float()\n",
    "            loss = loss_fcn(output, y.float())\n",
    "            loss_per_batch.append(loss.item())\n",
    "            total_test_loss += loss.item()\n",
    "    test_loss.append(total_test_loss / len(test_loader))\n",
    "\n",
    "    \n",
    "    if (epoch + 1) % 5 == 0:\n",
    "        print(f\"Epoch {epoch} train loss: {train_loss[-1]}\")\n",
    "        print(f\"Epoch {epoch} test loss: {test_loss[-1]}\")\n",
    "    # Save the best model so far\n",
    "    \n",
    "    if epoch == 0:\n",
    "        best_model = model\n",
    "        best_epoch = epoch\n",
    "    elif test_loss[-1] <  __builtins__.min(test_loss[:-1]):\n",
    "        best_model = model\n",
    "        best_epoch = epoch\n",
    "        \n",
    "\n",
    "    # Early stopping\n",
    "    if epoch - best_epoch >= 30:\n",
    "        print(\"Early stopping at epoch {}\".format(epoch))\n",
    "        break\n",
    "\n"
   ]
  },
  {
   "cell_type": "code",
   "execution_count": 43,
   "metadata": {},
   "outputs": [
    {
     "name": "stdout",
     "output_type": "stream",
     "text": [
      "Best epoch: 146\n",
      "Train loss: 0.8872476973968636\n",
      "Test loss: 0.8466053330104165\n",
      "batch size: 32\n",
      "learning rate: 0.0001\n",
      "number of epochs: 150\n",
      "myNeuralNet(\n",
      "  (ln1): Linear(in_features=62, out_features=64, bias=True)\n",
      "  (ln2): Linear(in_features=64, out_features=32, bias=True)\n",
      "  (ln3): Linear(in_features=32, out_features=1, bias=True)\n",
      ")\n",
      "<bound method Model.summary of <keras.src.engine.sequential.Sequential object at 0x00000201B31F7490>>\n"
     ]
    }
   ],
   "source": [
    "\n",
    "print('Best epoch: {}'.format(best_epoch))\n",
    "print('Train loss: {}'.format(train_loss[best_epoch]))\n",
    "print('Test loss: {}'.format(test_loss[best_epoch]))\n",
    "print('batch size: {}'.format(batch_size))\n",
    "print('learning rate: {}'.format(lr))\n",
    "print('number of epochs: {}'.format(num_epochs))\n",
    "\n",
    "# Best model\n",
    "best_model = best_model.eval()\n",
    "print(best_model)\n",
    "print(model.summary)"
   ]
  },
  {
   "cell_type": "code",
   "execution_count": 35,
   "metadata": {},
   "outputs": [
    {
     "data": {
      "image/png": "[encoded data removed]",
      "text/plain": [
       "<Figure size 640x480 with 1 Axes>"
      ]
     },
     "metadata": {},
     "output_type": "display_data"
    },
    {
     "data": {
      "image/png": "[encoded data removed]",
      "text/plain": [
       "<Figure size 640x480 with 1 Axes>"
      ]
     },
     "metadata": {},
     "output_type": "display_data"
    }
   ],
   "source": [
    "# Train loss per SGD Iteration\n",
    "import matplotlib.pyplot as plt\n",
    "plt.plot(range(1, len(loss_per_batch) + 1), loss_per_batch, label='Train Loss per Batch')\n",
    "plt.ylabel('Train Loss')\n",
    "plt.xlabel('SGD Iteration')\n",
    "plt.show()\n",
    "\n",
    "# make the y-axis range smaller to see the plot better\n",
    "plt.ylim(0, 5)\n",
    "plt.plot(range(1, len(train_loss) + 1), train_loss, label='Train Loss')\n",
    "plt.plot(range(1, len(test_loss) + 1), test_loss, label='Test Loss')\n",
    "plt.ylabel('Loss')\n",
    "plt.xlabel('Epoch')\n",
    "plt.legend()\n",
    "plt.show()"
   ]
  },
  {
   "cell_type": "markdown",
   "metadata": {},
   "source": [
    "## Tensorflow MLP"
   ]
  },
  {
   "cell_type": "code",
   "execution_count": 36,
   "metadata": {},
   "outputs": [],
   "source": [
    "import tensorflow as tf\n",
    "from tensorflow import keras\n",
    "\n",
    "x_train = tf.constant(np.array(train_pd['features'].values.tolist()))\n",
    "y_train = tf.constant(np.array(train_pd['overall'].values.tolist()))\n",
    "\n",
    "x_test = tf.constant(np.array(test_pd['features'].values.tolist()))\n",
    "y_test = tf.constant(np.array(test_pd['overall'].values.tolist()))"
   ]
  },
  {
   "cell_type": "code",
   "execution_count": 37,
   "metadata": {},
   "outputs": [
    {
     "name": "stdout",
     "output_type": "stream",
     "text": [
      "Epoch 1/50\n",
      "3072/3072 [==============================] - 2s 562us/step - loss: 10.7398 - mae: 1.5416\n",
      "Epoch 2/50\n",
      "3072/3072 [==============================] - 2s 561us/step - loss: 1.6133 - mae: 0.9766\n",
      "Epoch 3/50\n",
      "3072/3072 [==============================] - 2s 557us/step - loss: 1.4286 - mae: 0.9147\n",
      "Epoch 4/50\n",
      "3072/3072 [==============================] - 2s 567us/step - loss: 1.3229 - mae: 0.8758\n",
      "Epoch 5/50\n",
      "3072/3072 [==============================] - 2s 553us/step - loss: 1.2583 - mae: 0.8510\n",
      "Epoch 6/50\n",
      "3072/3072 [==============================] - 2s 547us/step - loss: 1.2484 - mae: 0.8489\n",
      "Epoch 7/50\n",
      "3072/3072 [==============================] - 2s 548us/step - loss: 1.1925 - mae: 0.8264\n",
      "Epoch 8/50\n",
      "3072/3072 [==============================] - 2s 533us/step - loss: 1.1712 - mae: 0.8180\n",
      "Epoch 9/50\n",
      "3072/3072 [==============================] - 2s 547us/step - loss: 1.1490 - mae: 0.8089\n",
      "Epoch 10/50\n",
      "3072/3072 [==============================] - 2s 546us/step - loss: 1.1394 - mae: 0.8056\n",
      "Epoch 11/50\n",
      "3072/3072 [==============================] - 2s 551us/step - loss: 1.1152 - mae: 0.7954\n",
      "Epoch 12/50\n",
      "3072/3072 [==============================] - 2s 559us/step - loss: 1.1256 - mae: 0.7994\n",
      "Epoch 13/50\n",
      "3072/3072 [==============================] - 2s 557us/step - loss: 1.1277 - mae: 0.8000\n",
      "Epoch 14/50\n",
      "3072/3072 [==============================] - 2s 556us/step - loss: 1.1076 - mae: 0.7929\n",
      "Epoch 15/50\n",
      "3072/3072 [==============================] - 2s 553us/step - loss: 1.0945 - mae: 0.7871\n",
      "Epoch 16/50\n",
      "3072/3072 [==============================] - 2s 556us/step - loss: 1.1053 - mae: 0.7919\n",
      "Epoch 17/50\n",
      "3072/3072 [==============================] - 2s 553us/step - loss: 1.0801 - mae: 0.7818\n",
      "Epoch 18/50\n",
      "3072/3072 [==============================] - 2s 551us/step - loss: 1.1033 - mae: 0.7904\n",
      "Epoch 19/50\n",
      "3072/3072 [==============================] - 2s 555us/step - loss: 1.0686 - mae: 0.7753\n",
      "Epoch 20/50\n",
      "3072/3072 [==============================] - 2s 539us/step - loss: 1.0676 - mae: 0.7750\n",
      "Epoch 21/50\n",
      "3072/3072 [==============================] - 2s 552us/step - loss: 1.0564 - mae: 0.7703\n",
      "Epoch 22/50\n",
      "3072/3072 [==============================] - 2s 552us/step - loss: 1.0579 - mae: 0.7713\n",
      "Epoch 23/50\n",
      "3072/3072 [==============================] - 2s 550us/step - loss: 1.0490 - mae: 0.7680\n",
      "Epoch 24/50\n",
      "3072/3072 [==============================] - 2s 539us/step - loss: 1.0607 - mae: 0.7735\n",
      "Epoch 25/50\n",
      "3072/3072 [==============================] - 2s 577us/step - loss: 1.0382 - mae: 0.7628\n",
      "Epoch 26/50\n",
      "3072/3072 [==============================] - 2s 533us/step - loss: 1.0593 - mae: 0.7706\n",
      "Epoch 27/50\n",
      "3072/3072 [==============================] - 2s 518us/step - loss: 1.0428 - mae: 0.7649\n",
      "Epoch 28/50\n",
      "3072/3072 [==============================] - 2s 558us/step - loss: 1.0397 - mae: 0.7645\n",
      "Epoch 29/50\n",
      "3072/3072 [==============================] - 2s 568us/step - loss: 1.0286 - mae: 0.7601\n",
      "Epoch 30/50\n",
      "3072/3072 [==============================] - 2s 540us/step - loss: 1.0252 - mae: 0.7574\n",
      "Epoch 31/50\n",
      "3072/3072 [==============================] - 2s 550us/step - loss: 1.0219 - mae: 0.7555\n",
      "Epoch 32/50\n",
      "3072/3072 [==============================] - 2s 533us/step - loss: 1.0311 - mae: 0.7618\n",
      "Epoch 33/50\n",
      "3072/3072 [==============================] - 2s 591us/step - loss: 1.0370 - mae: 0.7619\n",
      "Epoch 34/50\n",
      "3072/3072 [==============================] - 2s 550us/step - loss: 1.0193 - mae: 0.7561\n",
      "Epoch 35/50\n",
      "3072/3072 [==============================] - 2s 547us/step - loss: 1.0271 - mae: 0.7583\n",
      "Epoch 36/50\n",
      "3072/3072 [==============================] - 2s 551us/step - loss: 1.0215 - mae: 0.7554\n",
      "Epoch 37/50\n",
      "3072/3072 [==============================] - 2s 546us/step - loss: 1.0191 - mae: 0.7550\n",
      "Epoch 38/50\n",
      "3072/3072 [==============================] - 2s 551us/step - loss: 1.0255 - mae: 0.7589\n",
      "Epoch 39/50\n",
      "3072/3072 [==============================] - 2s 546us/step - loss: 1.0113 - mae: 0.7529\n",
      "Epoch 40/50\n",
      "3072/3072 [==============================] - 2s 558us/step - loss: 1.0206 - mae: 0.7569\n",
      "Epoch 41/50\n",
      "3072/3072 [==============================] - 2s 552us/step - loss: 1.0142 - mae: 0.7544\n",
      "Epoch 42/50\n",
      "3072/3072 [==============================] - 2s 545us/step - loss: 1.0159 - mae: 0.7546\n",
      "Epoch 43/50\n",
      "3072/3072 [==============================] - 2s 560us/step - loss: 1.0138 - mae: 0.7520\n",
      "Epoch 44/50\n",
      "3072/3072 [==============================] - 2s 547us/step - loss: 0.9999 - mae: 0.7482\n",
      "Epoch 45/50\n",
      "3072/3072 [==============================] - 2s 551us/step - loss: 1.0025 - mae: 0.7486\n",
      "Epoch 46/50\n",
      "3072/3072 [==============================] - 2s 554us/step - loss: 1.0026 - mae: 0.7486\n",
      "Epoch 47/50\n",
      "3072/3072 [==============================] - 2s 567us/step - loss: 1.0011 - mae: 0.7484\n",
      "Epoch 48/50\n",
      "3072/3072 [==============================] - 2s 541us/step - loss: 0.9886 - mae: 0.7431\n",
      "Epoch 49/50\n",
      "3072/3072 [==============================] - 2s 532us/step - loss: 1.0091 - mae: 0.7516\n",
      "Epoch 50/50\n",
      "3072/3072 [==============================] - 2s 535us/step - loss: 0.9960 - mae: 0.7449\n"
     ]
    },
    {
     "data": {
      "text/plain": [
       "<keras.src.callbacks.History at 0x201b330cfd0>"
      ]
     },
     "execution_count": 37,
     "metadata": {},
     "output_type": "execute_result"
    }
   ],
   "source": [
    "import datetime\n",
    "model = keras.Sequential([keras.layers.Dense(64, activation='relu'), \n",
    "                            keras.layers.Dense(32, activation='relu'),\n",
    "                            keras.layers.Dense(16, activation='relu'),\n",
    "                            keras.layers.Dense(8, activation='relu'),\n",
    "                            keras.layers.Dense(4, activation='relu'),\n",
    "                            keras.layers.Dense(1)])\n",
    "\n",
    "model.compile(optimizer='adam', loss='mse', metrics=['mae'])\n",
    "model.fit(x_train, y_train, epochs=50, batch_size=32)"
   ]
  },
  {
   "cell_type": "code",
   "execution_count": 38,
   "metadata": {},
   "outputs": [
    {
     "name": "stdout",
     "output_type": "stream",
     "text": [
      "Model: \"sequential_1\"\n",
      "_________________________________________________________________\n",
      " Layer (type)                Output Shape              Param #   \n",
      "=================================================================\n",
      " dense_6 (Dense)             (None, 64)                4032      \n",
      "                                                                 \n",
      " dense_7 (Dense)             (None, 32)                2080      \n",
      "                                                                 \n",
      " dense_8 (Dense)             (None, 16)                528       \n",
      "                                                                 \n",
      " dense_9 (Dense)             (None, 8)                 136       \n",
      "                                                                 \n",
      " dense_10 (Dense)            (None, 4)                 36        \n",
      "                                                                 \n",
      " dense_11 (Dense)            (None, 1)                 5         \n",
      "                                                                 \n",
      "=================================================================\n",
      "Total params: 6817 (26.63 KB)\n",
      "Trainable params: 6817 (26.63 KB)\n",
      "Non-trainable params: 0 (0.00 Byte)\n",
      "_________________________________________________________________\n",
      "1306/1306 - 1s - loss: 0.9435 - mae: 0.7019 - 545ms/epoch - 417us/step\n"
     ]
    },
    {
     "data": {
      "text/plain": [
       "[0.9435065388679504, 0.7019066214561462]"
      ]
     },
     "execution_count": 38,
     "metadata": {},
     "output_type": "execute_result"
    }
   ],
   "source": [
    "model.summary()\n",
    "\n",
    "model.evaluate(x_test, y_test, verbose=2)"
   ]
  }
 ],
 "metadata": {
  "kernelspec": {
   "display_name": "Python 3",
   "language": "python",
   "name": "python3"
  },
  "language_info": {
   "codemirror_mode": {
    "name": "ipython",
    "version": 3
   },
   "file_extension": ".py",
   "mimetype": "text/x-python",
   "name": "python",
   "nbconvert_exporter": "python",
   "pygments_lexer": "ipython3",
   "version": "3.11.4"
  }
 },
 "nbformat": 4,
 "nbformat_minor": 2
}
