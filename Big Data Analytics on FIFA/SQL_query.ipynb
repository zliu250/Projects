{
 "cells": [
  {
   "cell_type": "code",
   "execution_count": 1,
   "metadata": {},
   "outputs": [],
   "source": [
    "# Uncomment the following lines if you are using Windows!\n",
    "import findspark\n",
    "findspark.init()\n",
    "findspark.find()\n",
    "\n",
    "import pyspark\n",
    "\n",
    "from pyspark.sql import SparkSession\n",
    "from pyspark import SparkContext, SQLContext\n",
    "\n",
    "appName = \"Big Data Analytics\"\n",
    "master = \"local\"\n",
    "\n",
    "# Create Configuration object for Spark.\n",
    "conf = pyspark.SparkConf()\\\n",
    "    .set('spark.driver.host','127.0.0.1')\\\n",
    "    .setAppName(appName)\\\n",
    "    .setMaster(master)\n",
    "\n",
    "# Create Spark Context with the new configurations rather than relying on the default one\n",
    "sc = SparkContext.getOrCreate(conf=conf)\n",
    "\n",
    "spark = (\n",
    "    SparkSession.builder\n",
    "    .appName(\"Big Data Analytics\")\n",
    "    .master(\"local\")\n",
    "    .config(\"spark.driver.host\", '127.0.0.1')\n",
    "    .getOrCreate()\n",
    ")"
   ]
  },
  {
   "cell_type": "markdown",
   "metadata": {},
   "source": [
    "## Ingest data from CSV and write to database"
   ]
  },
  {
   "cell_type": "code",
   "execution_count": 2,
   "metadata": {},
   "outputs": [],
   "source": [
    "from pyspark.sql.functions import *\n",
    "# Read in CSV files\n",
    "fifa_df = {}\n",
    "for i in range(15, 23):\n",
    "   fifa_df[i] = (spark.read.csv(\"data/players_{}.csv\".format(i),header=True, inferSchema= True))\n"
   ]
  },
  {
   "cell_type": "code",
   "execution_count": 3,
   "metadata": {},
   "outputs": [],
   "source": [
    "# Add year column to each dataframe\n",
    "for key in fifa_df.keys():\n",
    "    fifa_df[key] = fifa_df[key].withColumn(\"year\", lit((2000 + key)))"
   ]
  },
  {
   "cell_type": "code",
   "execution_count": 4,
   "metadata": {},
   "outputs": [],
   "source": [
    "\n",
    "from functools import reduce\n",
    "# Merge all dataframes into one\n",
    "complete_df = reduce(DataFrame.union, [fifa_df[key] for key in fifa_df])"
   ]
  },
  {
   "cell_type": "code",
   "execution_count": 19,
   "metadata": {},
   "outputs": [
    {
     "name": "stdout",
     "output_type": "stream",
     "text": [
      "-RECORD 0-------------------------------------------\n",
      " sofifa_id                   | 158023               \n",
      " player_url                  | https://sofifa.co... \n",
      " short_name                  | L. Messi             \n",
      " long_name                   | Lionel Andrés Mes... \n",
      " player_positions            | CF                   \n",
      " overall                     | 93                   \n",
      " potential                   | 95                   \n",
      " value_eur                   | 1.005E8              \n",
      " wage_eur                    | 550000.0             \n",
      " age                         | 27                   \n",
      " dob                         | 1987-06-24           \n",
      " height_cm                   | 169                  \n",
      " weight_kg                   | 67                   \n",
      " club_team_id                | 241.0                \n",
      " club_name                   | FC Barcelona         \n",
      " league_name                 | Spain Primera Div... \n",
      " league_level                | 1                    \n",
      " club_position               | CF                   \n",
      " club_jersey_number          | 10                   \n",
      " club_loaned_from            | null                 \n",
      " club_joined                 | 2004-07-01           \n",
      " club_contract_valid_until   | 2018                 \n",
      " nationality_id              | 52                   \n",
      " nationality_name            | Argentina            \n",
      " nation_team_id              | 1369.0               \n",
      " nation_position             | CF                   \n",
      " nation_jersey_number        | 10                   \n",
      " preferred_foot              | Left                 \n",
      " weak_foot                   | 3                    \n",
      " skill_moves                 | 4                    \n",
      " international_reputation    | 5                    \n",
      " work_rate                   | Medium/Low           \n",
      " body_type                   | Normal (170-)        \n",
      " real_face                   | Yes                  \n",
      " release_clause_eur          | null                 \n",
      " player_tags                 | #Speedster, #Drib... \n",
      " player_traits               | Finesse Shot, Spe... \n",
      " pace                        | 93                   \n",
      " shooting                    | 89                   \n",
      " passing                     | 86                   \n",
      " dribbling                   | 96                   \n",
      " defending                   | 27                   \n",
      " physic                      | 63                   \n",
      " attacking_crossing          | 84                   \n",
      " attacking_finishing         | 94                   \n",
      " attacking_heading_accuracy  | 71                   \n",
      " attacking_short_passing     | 89                   \n",
      " attacking_volleys           | 85                   \n",
      " skill_dribbling             | 96                   \n",
      " skill_curve                 | 89                   \n",
      " skill_fk_accuracy           | 90                   \n",
      " skill_long_passing          | 76                   \n",
      " skill_ball_control          | 96                   \n",
      " movement_acceleration       | 96                   \n",
      " movement_sprint_speed       | 90                   \n",
      " movement_agility            | 94                   \n",
      " movement_reactions          | 94                   \n",
      " movement_balance            | 95                   \n",
      " power_shot_power            | 80                   \n",
      " power_jumping               | 73                   \n",
      " power_stamina               | 77                   \n",
      " power_strength              | 60                   \n",
      " power_long_shots            | 88                   \n",
      " mentality_aggression        | 48                   \n",
      " mentality_interceptions     | 22                   \n",
      " mentality_positioning       | 92                   \n",
      " mentality_vision            | 90                   \n",
      " mentality_penalties         | 76                   \n",
      " mentality_composure         | null                 \n",
      " defending_marking_awareness | 25                   \n",
      " defending_standing_tackle   | 21                   \n",
      " defending_sliding_tackle    | 20                   \n",
      " goalkeeping_diving          | 6                    \n",
      " goalkeeping_handling        | 11                   \n",
      " goalkeeping_kicking         | 15                   \n",
      " goalkeeping_positioning     | 14                   \n",
      " goalkeeping_reflexes        | 8                    \n",
      " goalkeeping_speed           | null                 \n",
      " ls                          | 89+3                 \n",
      " st                          | 89+3                 \n",
      " rs                          | 89+3                 \n",
      " lw                          | 92+3                 \n",
      " lf                          | 90+3                 \n",
      " cf                          | 90+3                 \n",
      " rf                          | 90+3                 \n",
      " rw                          | 92+3                 \n",
      " lam                         | 92+3                 \n",
      " cam                         | 92+3                 \n",
      " ram                         | 92+3                 \n",
      " lm                          | 90+3                 \n",
      " lcm                         | 79+3                 \n",
      " cm                          | 79+3                 \n",
      " rcm                         | 79+3                 \n",
      " rm                          | 90+3                 \n",
      " lwb                         | 62+3                 \n",
      " ldm                         | 62+3                 \n",
      " cdm                         | 62+3                 \n",
      " rdm                         | 62+3                 \n",
      " rwb                         | 62+3                 \n",
      " lb                          | 54+3                 \n",
      " lcb                         | 45+3                 \n",
      " cb                          | 45+3                 \n",
      " rcb                         | 45+3                 \n",
      " rb                          | 54+3                 \n",
      " gk                          | 15+3                 \n",
      " player_face_url             | https://cdn.sofif... \n",
      " club_logo_url               | https://cdn.sofif... \n",
      " club_flag_url               | https://cdn.sofif... \n",
      " nation_logo_url             | https://cdn.sofif... \n",
      " nation_flag_url             | https://cdn.sofif... \n",
      " year                        | 2015                 \n",
      "only showing top 1 row\n",
      "\n"
     ]
    }
   ],
   "source": [
    "complete_df.show(1,vertical = True)"
   ]
  },
  {
   "cell_type": "code",
   "execution_count": 5,
   "metadata": {},
   "outputs": [],
   "source": [
    "# Assign unique Id to each row\n",
    "complete_df = complete_df.withColumn('UID', monotonically_increasing_id())"
   ]
  },
  {
   "cell_type": "code",
   "execution_count": null,
   "metadata": {},
   "outputs": [],
   "source": [
    "# Prepare a csv of merged dataframe\n",
    "merged_df = complete_df.toPandas()\n",
    "merged_df.to_csv('data/merged_raw.csv',  header=True, index = False)"
   ]
  },
  {
   "cell_type": "markdown",
   "metadata": {},
   "source": [
    "## Prepare truncated data for cloud usage"
   ]
  },
  {
   "cell_type": "code",
   "execution_count": 21,
   "metadata": {},
   "outputs": [],
   "source": [
    "# complete_df = complete_df.sample(False, 0.1)"
   ]
  },
  {
   "cell_type": "code",
   "execution_count": 22,
   "metadata": {},
   "outputs": [],
   "source": [
    "# pandas_df = complete_df.toPandas()\n",
    "\n",
    "# pandas_df.to_csv('merged_raw_data.csv', header=True, index = False)"
   ]
  },
  {
   "cell_type": "code",
   "execution_count": 23,
   "metadata": {},
   "outputs": [],
   "source": [
    "df_read = complete_df"
   ]
  },
  {
   "cell_type": "markdown",
   "metadata": {},
   "source": [
    "# Sample Query that can be done on this dataset"
   ]
  },
  {
   "cell_type": "markdown",
   "metadata": {},
   "source": [
    "## Query 1: Top club_num clubs have the highest number of players with contracts ending in 2022"
   ]
  },
  {
   "cell_type": "code",
   "execution_count": 14,
   "metadata": {},
   "outputs": [
    {
     "name": "stdout",
     "output_type": "stream",
     "text": [
      "You entered: 10\n",
      "+--------------------+-----+\n",
      "|           club_name|count|\n",
      "+--------------------+-----+\n",
      "|En Avant de Guingamp|   19|\n",
      "| Club Atlético Lanús|   17|\n",
      "|       Lechia Gdańsk|   17|\n",
      "|            Barnsley|   16|\n",
      "|        Bengaluru FC|   16|\n",
      "|        Kasimpaşa SK|   16|\n",
      "|          CA Osasuna|   15|\n",
      "|              Al Tai|   15|\n",
      "|  SV Wehen Wiesbaden|   15|\n",
      "|            KAA Gent|   15|\n",
      "+--------------------+-----+\n",
      "only showing top 10 rows\n",
      "\n"
     ]
    }
   ],
   "source": [
    "# Analytical Queries Section\n",
    "from pyspark.sql import functions as F\n",
    "\n",
    "club_num = input(\"Enter the number of clubs you want to analyze: \")\n",
    "print(\"You entered: \" + club_num)\n",
    "\n",
    "\n",
    "df_2022 = df_read.filter((df_read['Year']== 2022) & (df_read[\"club_contract_valid_until\"] == 2023))\n",
    "\n",
    "club_counts = df_2022.groupBy(\"club_name\").count().orderBy(F.desc(\"count\"))\n",
    "club_counts.show(int(club_num))\n"
   ]
  },
  {
   "cell_type": "markdown",
   "metadata": {},
   "source": [
    "## Query 2  count the number of players older than 27 years old\n",
    "## for each club every year, calculate the averages and list the Y clubs with highest averages"
   ]
  },
  {
   "cell_type": "code",
   "execution_count": 27,
   "metadata": {},
   "outputs": [
    {
     "name": "stdout",
     "output_type": "stream",
     "text": [
      "You entered: 10\n",
      "+--------------------+-------------+\n",
      "|           club_name|average_count|\n",
      "+--------------------+-------------+\n",
      "|  Dorados de Sinaloa|         19.0|\n",
      "| Matsumoto Yamaga FC|         19.0|\n",
      "| Shanghai Shenhua FC|         18.5|\n",
      "|          Qingdao FC|         18.0|\n",
      "|Club Deportivo Jo...|         17.5|\n",
      "|            Altay SK|         17.0|\n",
      "|         Guaireña FC|         17.0|\n",
      "|İstanbul Başakşeh...|       16.625|\n",
      "|      BB Erzurumspor|         16.5|\n",
      "|        Club Olimpia|         16.5|\n",
      "|      Sport Huancayo|         16.5|\n",
      "+--------------------+-------------+\n",
      "\n"
     ]
    }
   ],
   "source": [
    "# Check if the club_name is null and age is greater than 27\n",
    "older_players = df_read.filter((df_read[\"age\"] > 27) & (df_read[\"club_name\"].isNotNull()))\n",
    "\n",
    "# Group by club_name and Year\n",
    "club_year_counts = older_players.groupBy(\"club_name\", \"Year\").agg(F.count(\"UID\").alias(\"total_count\"))\n",
    "\n",
    "# Group by club_name to calculate average\n",
    "club_avg_counts = club_year_counts.groupBy(\"club_name\").agg(F.avg(\"total_count\").alias(\"average_count\"))\n",
    "\n",
    "# Order by average in descending order\n",
    "sorted_clubs = club_avg_counts.orderBy(F.desc(\"average_count\"))\n",
    "\n",
    "# Display the top Y clubs, handling tie scenarios\n",
    "num_club = int(input(\"Enter the number of top clubs you want to see: \"))\n",
    "print(\"You entered: \" + str(num_club))\n",
    "\n",
    "threshold = sorted_clubs.limit(num_club).select(\"average_count\").collect()[num_club-1][\"average_count\"]\n",
    "    \n",
    "filtered_result = sorted_clubs.filter(sorted_clubs[\"average_count\"] >= threshold).show()\n",
    "\n",
    "# Result\n",
    "filtered_result\n"
   ]
  },
  {
   "cell_type": "markdown",
   "metadata": {},
   "source": [
    "## Query 3 What is the most frequent nation_position in the dataset for each year?"
   ]
  },
  {
   "cell_type": "code",
   "execution_count": 28,
   "metadata": {},
   "outputs": [
    {
     "name": "stdout",
     "output_type": "stream",
     "text": [
      "+----+---------------+---------+\n",
      "|Year|nation_position|max_count|\n",
      "+----+---------------+---------+\n",
      "|2022|            SUB|      396|\n",
      "|2021|            SUB|      588|\n",
      "|2020|            SUB|      588|\n",
      "|2019|            SUB|      576|\n",
      "|2018|            SUB|      600|\n",
      "|2017|            SUB|      564|\n",
      "|2016|            SUB|      511|\n",
      "|2015|            SUB|      564|\n",
      "+----+---------------+---------+\n",
      "\n"
     ]
    }
   ],
   "source": [
    "# Group by Year and nation_position\n",
    "df_read_filter = df_read.filter(df_read[\"nation_position\"].isNotNull())\n",
    "nation_position_counts = df_read_filter.groupBy(\"Year\", \"nation_position\").agg(F.count(\"UID\").alias(\"total_count\"))\n",
    "\n",
    "# Find the max count for each year\n",
    "max_count = nation_position_counts.groupBy(\"Year\").agg(F.max(\"total_count\").alias(\"max_count\"))\n",
    "max_count = max_count.withColumnRenamed(\"Year\", \"Year2\")\n",
    "\n",
    "# Join the two table to find which position has the max count for each year\n",
    "top_nation_positions = nation_position_counts.join(max_count, (nation_position_counts[\"Year\"] == max_count[\"Year2\"]) & \n",
    "                                                   (nation_position_counts[\"total_count\"] == max_count[\"max_count\"]))\n",
    "\n",
    "# Result\n",
    "top_nation_positions.select(\"Year\", \"nation_position\", \"max_count\").orderBy(F.desc(\"Year\")).show()"
   ]
  }
 ],
 "metadata": {
  "kernelspec": {
   "display_name": "Python 3",
   "language": "python",
   "name": "python3"
  },
  "language_info": {
   "codemirror_mode": {
    "name": "ipython",
    "version": 3
   },
   "file_extension": ".py",
   "mimetype": "text/x-python",
   "name": "python",
   "nbconvert_exporter": "python",
   "pygments_lexer": "ipython3",
   "version": "3.11.4"
  },
  "orig_nbformat": 4
 },
 "nbformat": 4,
 "nbformat_minor": 2
}
