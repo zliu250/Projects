{
 "cells": [
  {
   "cell_type": "code",
   "execution_count": 3,
   "id": "484c2704",
   "metadata": {},
   "outputs": [
    {
     "name": "stderr",
     "output_type": "stream",
     "text": [
      "Setting default log level to \"WARN\".\n",
      "To adjust logging level use sc.setLogLevel(newLevel). For SparkR, use setLogLevel(newLevel).\n",
      "23/11/16 05:08:32 INFO SparkEnv: Registering MapOutputTracker\n",
      "23/11/16 05:08:32 INFO SparkEnv: Registering BlockManagerMaster\n",
      "23/11/16 05:08:32 INFO SparkEnv: Registering BlockManagerMasterHeartbeat\n",
      "23/11/16 05:08:32 INFO SparkEnv: Registering OutputCommitCoordinator\n"
     ]
    }
   ],
   "source": [
    "import pyspark\n",
    "from pyspark.sql import SparkSession, SQLContext\n",
    "from pyspark.ml import Pipeline,Transformer\n",
    "from pyspark.ml.feature import Imputer,StandardScaler,StringIndexer,OneHotEncoder, VectorAssembler\n",
    "\n",
    "from pyspark.sql.functions import *\n",
    "from pyspark.sql.types import *\n",
    "import numpy as np\n",
    "\n",
    "spark = SparkSession.builder \\\n",
    "    .master(\"yarn\") \\\n",
    "    .appName(\"SparkMLOct10-RF500-yarn\") \\\n",
    "    .getOrCreate()"
   ]
  },
  {
   "cell_type": "code",
   "execution_count": 4,
   "id": "f1e683e8",
   "metadata": {
    "tags": []
   },
   "outputs": [],
   "source": [
    "bucket_path = \"gs://fifa_players\""
   ]
  },
  {
   "cell_type": "code",
   "execution_count": 5,
   "id": "978f3a12",
   "metadata": {},
   "outputs": [
    {
     "name": "stderr",
     "output_type": "stream",
     "text": [
      "                                                                                \r"
     ]
    }
   ],
   "source": [
    "df_15 = spark.read.csv(bucket_path + \"/data/players_15.csv\",header=True, inferSchema= True)"
   ]
  },
  {
   "cell_type": "code",
   "execution_count": 6,
   "id": "0712e370",
   "metadata": {},
   "outputs": [
    {
     "name": "stderr",
     "output_type": "stream",
     "text": [
      "                                                                                \r"
     ]
    }
   ],
   "source": [
    "df_16 = (spark.read.csv(bucket_path + \"/data/players_16.csv\",header=True, inferSchema= True))\n",
    "df_17 = (spark.read.csv(bucket_path + \"/data/players_17.csv\",header=True, inferSchema= True))\n",
    "df_18 = (spark.read.csv(bucket_path + \"/data/players_18.csv\",header=True, inferSchema= True))\n",
    "df_19 = (spark.read.csv(bucket_path + \"/data/players_19.csv\",header=True, inferSchema= True))\n",
    "df_20 = (spark.read.csv(bucket_path + \"/data/players_20.csv\",header=True, inferSchema= True))\n",
    "df_21 = (spark.read.csv(bucket_path + \"/data/players_21.csv\",header=True, inferSchema= True))\n",
    "df_22 = (spark.read.csv(bucket_path + \"/data/players_22.csv\",header=True, inferSchema= True))"
   ]
  },
  {
   "cell_type": "code",
   "execution_count": 7,
   "id": "7413ea9c",
   "metadata": {},
   "outputs": [],
   "source": [
    "df_15 = df_15.withColumn('Year', lit(2015))\n",
    "df_16 = df_16.withColumn('Year', lit(2016))\n",
    "df_17 = df_17.withColumn('Year', lit(2017))\n",
    "df_18 = df_18.withColumn('Year', lit(2018))\n",
    "df_19 = df_19.withColumn('Year', lit(2019))\n",
    "df_20 = df_20.withColumn('Year', lit(2020))\n",
    "df_21 = df_21.withColumn('Year', lit(2021))\n",
    "df_22 = df_22.withColumn('Year', lit(2022))"
   ]
  },
  {
   "cell_type": "code",
   "execution_count": 8,
   "id": "2be985f4",
   "metadata": {},
   "outputs": [
    {
     "name": "stderr",
     "output_type": "stream",
     "text": [
      "23/11/16 05:09:39 WARN package: Truncated the string representation of a plan since it was too large. This behavior can be adjusted by setting 'spark.sql.debug.maxToStringFields'.\n",
      "                                                                                \r"
     ]
    },
    {
     "name": "stdout",
     "output_type": "stream",
     "text": [
      "-RECORD 0-------------------------------------------\n",
      " sofifa_id                   | 158023               \n",
      " player_url                  | https://sofifa.co... \n",
      " short_name                  | L. Messi             \n",
      " long_name                   | Lionel Andrés Mes... \n",
      " player_positions            | CF                   \n",
      " overall                     | 93                   \n",
      " potential                   | 95                   \n",
      " value_eur                   | 1.005E8              \n",
      " wage_eur                    | 550000.0             \n",
      " age                         | 27                   \n",
      " dob                         | 1987-06-24 00:00:00  \n",
      " height_cm                   | 169                  \n",
      " weight_kg                   | 67                   \n",
      " club_team_id                | 241.0                \n",
      " club_name                   | FC Barcelona         \n",
      " league_name                 | Spain Primera Div... \n",
      " league_level                | 1                    \n",
      " club_position               | CF                   \n",
      " club_jersey_number          | 10                   \n",
      " club_loaned_from            | null                 \n",
      " club_joined                 | 2004-07-01 00:00:00  \n",
      " club_contract_valid_until   | 2018                 \n",
      " nationality_id              | 52                   \n",
      " nationality_name            | Argentina            \n",
      " nation_team_id              | 1369.0               \n",
      " nation_position             | CF                   \n",
      " nation_jersey_number        | 10                   \n",
      " preferred_foot              | Left                 \n",
      " weak_foot                   | 3                    \n",
      " skill_moves                 | 4                    \n",
      " international_reputation    | 5                    \n",
      " work_rate                   | Medium/Low           \n",
      " body_type                   | Normal (170-)        \n",
      " real_face                   | Yes                  \n",
      " release_clause_eur          | null                 \n",
      " player_tags                 | #Speedster, #Drib... \n",
      " player_traits               | Finesse Shot, Spe... \n",
      " pace                        | 93                   \n",
      " shooting                    | 89                   \n",
      " passing                     | 86                   \n",
      " dribbling                   | 96                   \n",
      " defending                   | 27                   \n",
      " physic                      | 63                   \n",
      " attacking_crossing          | 84                   \n",
      " attacking_finishing         | 94                   \n",
      " attacking_heading_accuracy  | 71                   \n",
      " attacking_short_passing     | 89                   \n",
      " attacking_volleys           | 85                   \n",
      " skill_dribbling             | 96                   \n",
      " skill_curve                 | 89                   \n",
      " skill_fk_accuracy           | 90                   \n",
      " skill_long_passing          | 76                   \n",
      " skill_ball_control          | 96                   \n",
      " movement_acceleration       | 96                   \n",
      " movement_sprint_speed       | 90                   \n",
      " movement_agility            | 94                   \n",
      " movement_reactions          | 94                   \n",
      " movement_balance            | 95                   \n",
      " power_shot_power            | 80                   \n",
      " power_jumping               | 73                   \n",
      " power_stamina               | 77                   \n",
      " power_strength              | 60                   \n",
      " power_long_shots            | 88                   \n",
      " mentality_aggression        | 48                   \n",
      " mentality_interceptions     | 22                   \n",
      " mentality_positioning       | 92                   \n",
      " mentality_vision            | 90                   \n",
      " mentality_penalties         | 76                   \n",
      " mentality_composure         | null                 \n",
      " defending_marking_awareness | 25                   \n",
      " defending_standing_tackle   | 21                   \n",
      " defending_sliding_tackle    | 20                   \n",
      " goalkeeping_diving          | 6                    \n",
      " goalkeeping_handling        | 11                   \n",
      " goalkeeping_kicking         | 15                   \n",
      " goalkeeping_positioning     | 14                   \n",
      " goalkeeping_reflexes        | 8                    \n",
      " goalkeeping_speed           | null                 \n",
      " ls                          | 89+3                 \n",
      " st                          | 89+3                 \n",
      " rs                          | 89+3                 \n",
      " lw                          | 92+3                 \n",
      " lf                          | 90+3                 \n",
      " cf                          | 90+3                 \n",
      " rf                          | 90+3                 \n",
      " rw                          | 92+3                 \n",
      " lam                         | 92+3                 \n",
      " cam                         | 92+3                 \n",
      " ram                         | 92+3                 \n",
      " lm                          | 90+3                 \n",
      " lcm                         | 79+3                 \n",
      " cm                          | 79+3                 \n",
      " rcm                         | 79+3                 \n",
      " rm                          | 90+3                 \n",
      " lwb                         | 62+3                 \n",
      " ldm                         | 62+3                 \n",
      " cdm                         | 62+3                 \n",
      " rdm                         | 62+3                 \n",
      " rwb                         | 62+3                 \n",
      " lb                          | 54+3                 \n",
      " lcb                         | 45+3                 \n",
      " cb                          | 45+3                 \n",
      " rcb                         | 45+3                 \n",
      " rb                          | 54+3                 \n",
      " gk                          | 15+3                 \n",
      " player_face_url             | https://cdn.sofif... \n",
      " club_logo_url               | https://cdn.sofif... \n",
      " club_flag_url               | https://cdn.sofif... \n",
      " nation_logo_url             | https://cdn.sofif... \n",
      " nation_flag_url             | https://cdn.sofif... \n",
      " Year                        | 2015                 \n",
      "only showing top 1 row\n",
      "\n"
     ]
    }
   ],
   "source": [
    "complete_df = df_15.union(df_16).union(df_17).union(df_18).union(df_19).union(df_20).union(df_21).union(df_22)\n",
    "\n",
    "complete_df.show(1,vertical = True)"
   ]
  },
  {
   "cell_type": "code",
   "execution_count": 9,
   "id": "1d72a700-34e1-4e1b-bb1c-5010d5e3dc32",
   "metadata": {},
   "outputs": [],
   "source": [
    "complete_df = complete_df.withColumn('UID', monotonically_increasing_id())\n",
    "df_read = complete_df\n",
    "df_read = df_read.sample(False, 0.1)"
   ]
  },
  {
   "cell_type": "code",
   "execution_count": 10,
   "id": "b839b1b6",
   "metadata": {},
   "outputs": [
    {
     "name": "stdout",
     "output_type": "stream",
     "text": [
      "Enter the number of clubs you want to analyze:  10\n",
      "You entered: 10\n"
     ]
    },
    {
     "name": "stderr",
     "output_type": "stream",
     "text": [
      "[Stage 19:>                                                         (0 + 1) / 1]\r"
     ]
    },
    {
     "name": "stdout",
     "output_type": "stream",
     "text": [
      "+--------------------+-----+\n",
      "|           club_name|count|\n",
      "+--------------------+-----+\n",
      "| Stade Malherbe Caen|    5|\n",
      "|          SC Cambuur|    5|\n",
      "|            Al Hazem|    4|\n",
      "|     Strømsgodset IF|    4|\n",
      "|TSV Egger Glas Ha...|    3|\n",
      "|Central Coast Mar...|    3|\n",
      "|          AC Ajaccio|    3|\n",
      "|    APOEL Nicosia FC|    3|\n",
      "|FC Paços de Ferreira|    3|\n",
      "|       Bradford City|    3|\n",
      "+--------------------+-----+\n",
      "only showing top 10 rows\n",
      "\n"
     ]
    },
    {
     "name": "stderr",
     "output_type": "stream",
     "text": [
      "                                                                                \r"
     ]
    }
   ],
   "source": [
    "\n",
    "# Analytical Queries Section\n",
    "from pyspark.sql import functions as F\n",
    "\n",
    "club_num = input(\"Enter the number of clubs you want to analyze: \")\n",
    "print(\"You entered: \" + club_num)\n",
    "\n",
    "\n",
    "df_2022 = df_read.filter((df_read['Year']== 2022) & (df_read[\"club_contract_valid_until\"] == 2023))\n",
    "\n",
    "club_counts = df_2022.groupBy(\"club_name\").count().orderBy(F.desc(\"count\"))\n",
    "club_counts.show(int(club_num))"
   ]
  },
  {
   "cell_type": "code",
   "execution_count": 11,
   "id": "74ece1fd-a9a5-4f81-b16e-635793252b1c",
   "metadata": {},
   "outputs": [
    {
     "name": "stdout",
     "output_type": "stream",
     "text": [
      "Enter the number of top clubs you want to see:  10\n",
      "You entered: 10\n"
     ]
    },
    {
     "name": "stderr",
     "output_type": "stream",
     "text": [
      "[Stage 26:=================================================>      (14 + 2) / 16]\r"
     ]
    },
    {
     "name": "stdout",
     "output_type": "stream",
     "text": [
      "+--------------------+-------------+\n",
      "|           club_name|average_count|\n",
      "+--------------------+-------------+\n",
      "|Club Deportivo Jo...|          4.0|\n",
      "|  Sandecja Nowy Sącz|          4.0|\n",
      "|   Crucero del Norte|          4.0|\n",
      "|          VfB Lübeck|          4.0|\n",
      "|               Hajer|          3.5|\n",
      "|        Gyeongnam FC|          3.5|\n",
      "|  Santiago Wanderers|          3.0|\n",
      "|  SpVgg Unterhaching|          3.0|\n",
      "|Club Deportivo El...|          3.0|\n",
      "|     Rapid București|          3.0|\n",
      "|Demir Grup Sivasspor|          3.0|\n",
      "|       Nueva Chicago|          3.0|\n",
      "|         FC Botoşani|          3.0|\n",
      "|              Paraná|          3.0|\n",
      "|         CD Feirense|          3.0|\n",
      "|      Ventforet Kofu|          3.0|\n",
      "|         KV Kortrijk|          3.0|\n",
      "|Évian Thonon Gail...|          3.0|\n",
      "|        Nashville SC|          3.0|\n",
      "|Club Universitari...|          3.0|\n",
      "+--------------------+-------------+\n",
      "only showing top 20 rows\n",
      "\n"
     ]
    },
    {
     "name": "stderr",
     "output_type": "stream",
     "text": [
      "                                                                                \r"
     ]
    }
   ],
   "source": [
    "# Check if the club_name is null and age is greater than 27\n",
    "older_players = df_read.filter((df_read[\"age\"] > 27) & (df_read[\"club_name\"].isNotNull()))\n",
    "\n",
    "# Group by club_name and Year\n",
    "club_year_counts = older_players.groupBy(\"club_name\", \"Year\").agg(F.count(\"UID\").alias(\"total_count\"))\n",
    "\n",
    "# Group by club_name to calculate average\n",
    "club_avg_counts = club_year_counts.groupBy(\"club_name\").agg(F.avg(\"total_count\").alias(\"average_count\"))\n",
    "\n",
    "# Order by average in descending order\n",
    "sorted_clubs = club_avg_counts.orderBy(F.desc(\"average_count\"))\n",
    "\n",
    "# Display the top Y clubs, handling tie scenarios\n",
    "num_club = int(input(\"Enter the number of top clubs you want to see: \"))\n",
    "print(\"You entered: \" + str(num_club))\n",
    "threshold = sorted_clubs.limit(num_club).select(\"average_count\").collect()[num_club-1][\"average_count\"]\n",
    "    \n",
    "filtered_result = sorted_clubs.filter(sorted_clubs[\"average_count\"] >= threshold).show()\n",
    "\n",
    "# Result\n",
    "filtered_result\n"
   ]
  },
  {
   "cell_type": "code",
   "execution_count": 12,
   "id": "9910cf37-8ffd-4295-a74d-300fa5168067",
   "metadata": {},
   "outputs": [
    {
     "name": "stderr",
     "output_type": "stream",
     "text": [
      "                                                                                \r"
     ]
    },
    {
     "name": "stdout",
     "output_type": "stream",
     "text": [
      "+----+---------------+---------+\n",
      "|Year|nation_position|max_count|\n",
      "+----+---------------+---------+\n",
      "|2022|            SUB|       30|\n",
      "|2021|            SUB|       62|\n",
      "|2020|            SUB|       53|\n",
      "|2019|            SUB|       49|\n",
      "|2018|            SUB|       56|\n",
      "|2017|            SUB|       51|\n",
      "|2016|            SUB|       38|\n",
      "|2015|            SUB|       57|\n",
      "+----+---------------+---------+\n",
      "\n"
     ]
    }
   ],
   "source": [
    "# Group by Year and nation_position\n",
    "df_read_filter = df_read.filter(df_read[\"nation_position\"].isNotNull())\n",
    "nation_position_counts = df_read_filter.groupBy(\"Year\", \"nation_position\").agg(F.count(\"UID\").alias(\"total_count\"))\n",
    "\n",
    "# Find the max count for each year\n",
    "max_count = nation_position_counts.groupBy(\"Year\").agg(F.max(\"total_count\").alias(\"max_count\"))\n",
    "max_count = max_count.withColumnRenamed(\"Year\", \"Year2\")\n",
    "\n",
    "# Join the two table to find which position has the max count for each year\n",
    "top_nation_positions = nation_position_counts.join(max_count, (nation_position_counts[\"Year\"] == max_count[\"Year2\"]) & \n",
    "                                                   (nation_position_counts[\"total_count\"] == max_count[\"max_count\"]))\n",
    "\n",
    "# Result\n",
    "top_nation_positions.select(\"Year\", \"nation_position\", \"max_count\").orderBy(F.desc(\"Year\")).show()"
   ]
  },
  {
   "cell_type": "code",
   "execution_count": null,
   "id": "73bae1c1-bbd3-449b-a283-f7be9c2503e6",
   "metadata": {},
   "outputs": [],
   "source": []
  }
 ],
 "metadata": {
  "kernelspec": {
   "display_name": "Python 3",
   "language": "python",
   "name": "python3"
  },
  "language_info": {
   "codemirror_mode": {
    "name": "ipython",
    "version": 3
   },
   "file_extension": ".py",
   "mimetype": "text/x-python",
   "name": "python",
   "nbconvert_exporter": "python",
   "pygments_lexer": "ipython3",
   "version": "3.10.8"
  }
 },
 "nbformat": 4,
 "nbformat_minor": 5
}
